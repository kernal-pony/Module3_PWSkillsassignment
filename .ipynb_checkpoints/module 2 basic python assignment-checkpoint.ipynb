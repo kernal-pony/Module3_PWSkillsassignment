{
 "cells": [
  {
   "cell_type": "markdown",
   "id": "22f43058-705b-4d3f-ad9e-892fe7532ba8",
   "metadata": {
    "tags": []
   },
   "source": [
    "### Q1- Explain the key features of python that makes it a popular choice for programming"
   ]
  },
  {
   "cell_type": "code",
   "execution_count": null,
   "id": "21c420bc-b82f-4716-a74d-7e6836308e88",
   "metadata": {},
   "outputs": [],
   "source": [
    "1.It is a cross-platform language.It can run on Linux, macOS, and Windows. For example, you can run the Python code for Windows in Linux or macOS, too.\n",
    "\n",
    "2.It offers various modules like operators, mathematical functions, libraries such as NumPy, Pandas, Tensorflow, etc., and packages paving the way for the developers to save time to avoid re-writing the codes from scratch. To provide more functionality and packages, they also provide Python Package Index.\n",
    "\n",
    "3.It is a high-level, general-purpose programming language. Unlike machine language like C, C++, It is a human-readable language. In other words, even a layman can understand the programs.\n",
    "\n",
    "4.It is easy to understand and easy to code, and anyone can learn Python within a few days. For example, a simple Python program to add two numbers is as follows:\n",
    "\n",
    "a = 8\n",
    "b = 9\n",
    "print(a+b)\n",
    "\n",
    "We have completed this program within three lines. Whereas in Java, C++ and C, it takes more lines. That is why Python is known as an easy and precise language\n",
    "\n",
    "5.Declaring the type of a variable is not needed. For example, let us declare an integer number 7 for a variable a. Rather than declare it as:\n",
    "\n",
    "int a = 7 ( this is necessary for statically-typed language like C)\n",
    "We declare it as\n",
    "a = 7\n",
    "\n",
    "But, the programmers have to be careful regarding runtime errors.\n",
    "\n",
    "6.Code can be used to compile in C or C++ language so that it can be utilized for our Python code. This is achieved because it converts the program to byte code.\n",
    "\n",
    "7. Interpreted Language\n",
    "Line-by-line execution of source code, converted into byte code; thus, compiling the code is not necessary, making it easy to debug if required.\n",
    "\n",
    "8. Object-Oriented Programming Language\n",
    "It supports procedural, functional, structural, and also object-oriented language such as abstraction, encapsulation, inheritance, and polymorphism which is considered important by the Python coder.\n",
    "\n",
    "9. Free and Open-source libraries\n",
    "It is a free open-source platform that can be downloaded easily from their Official Website.\n",
    "\n",
    "10. Support is provided for Graphical User Interface\n",
    "Lots of Graphical User Interface frameworks are available in Python, thus helping the software user, and it sticks to platform-specific technologies. It can be used in software development, web development, etc"
   ]
  },
  {
   "cell_type": "markdown",
   "id": "29ae8ecc-17a4-4331-af6e-78322ac61bd3",
   "metadata": {},
   "source": [
    "### Describe the role of predefined keywords in Python and provide examples of how they are used in a python"
   ]
  },
  {
   "cell_type": "code",
   "execution_count": null,
   "id": "7fd5b1cb-0f37-4b26-92de-bdcf9ac88348",
   "metadata": {},
   "outputs": [],
   "source": [
    "\"\"\"\n",
    "\n",
    "In Python, keywords are reserved words that have specific meanings and cannot be used as variable names, function names, or any other identifiers. \n",
    "These keywords serve as the fundamental building blocks of Python programs. Let’s explore some essential Python keywords and their roles:\n",
    "\n",
    "and: A logical operator used for AND operations. It returns True if both operands are true. For example:\"\"\"\n",
    "\n",
    "x = True\n",
    "y = False\n",
    "result = x and y  # result will be False\n",
    "\n",
    "\n",
    "\"\"\"\n",
    "or: Performs a logical OR operation. It returns True if at least one operand is true. Example:\n",
    "Python\n",
    "\n",
    "\"\"\"\n",
    "a = True\n",
    "b = False\n",
    "result = a or b  # result will be True\n",
    "\n",
    "\n",
    "\"\"\"\n",
    "not: Inverts the boolean value of its operand. Example:\n",
    "Python\n",
    "\n",
    "value = True\n",
    "inverted_value = not value  # inverted_value will be False\n",
    "\"\"\"\n",
    "\n",
    "\"\"\"\n",
    "in: Checks if a value exists within an iterable (e.g., a list or string). Example:\n",
    "Python\n",
    "\"\"\"\n",
    "\n",
    "fruits = [\"apple\", \"banana\", \"cherry\"]\n",
    "if \"banana\" in fruits:\n",
    "    print(\"Found banana in the list!\")\n",
    "\n",
    "    \n",
    "\"\"\"\n",
    "\n",
    "\n",
    "is: Tests if two variables point to the same object in memory. Example:\n",
    "Python\n",
    "\n",
    "\"\"\"\n",
    "\n",
    "x = [1, 2, 3]\n",
    "y = x\n",
    "print(x is y)  # True because x and y refer to the same list object\n",
    "\n",
    "\n",
    "\"\"\"\n",
    "if: Used for conditional statements. Example:\n",
    "Python\n",
    "\"\"\"\n",
    "age = 18\n",
    "if age >= 18\n",
    "    print(\"You are an adult.\")\n",
    "else:\n",
    "    print(\"You are a minor.\")\n",
    "    \n",
    "\"\"\"\n",
    "\n",
    "while: Creates a loop that continues as long as a condition is true. Example:\n",
    "Python\n",
    "\n",
    "\"\"\"\n",
    "count = 0\n",
    "while count < 5:\n",
    "    print(f\"Count: {count}\")\n",
    "    count += 1\n",
    "\n",
    "\n",
    "\"\"\"\n",
    "for: Creates a loop that iterates over a sequence (e.g., a list, tuple, or string). Example:\n",
    "Python\n",
    "\n",
    "\"\"\"\"\n",
    "\n",
    "fruits = [\"apple\", \"banana\", \"cherry\"]\n",
    "for fruit in fruits:\n",
    "    print(fruit)\n",
    "\n",
    "\n",
    "\"\"\"\n",
    "def: Defines a function. Example:\n",
    "Python\n",
    "\"\"\"\n",
    "def greet(name):\n",
    "    print(f\"Hello, {name}!\")\n",
    "\n",
    "greet(\"Alice\")\n",
    "\n",
    "\n",
    "\"\"\"\n",
    "return: Exits a function and returns a value. Example:\n",
    "Python\n",
    "\n",
    "\"\"\"\n",
    "\n",
    "def add(a, b):\n",
    "    return a + b\n",
    "\n",
    "result = add(3, 5)  # result will be 8\n",
    "\n",
    "\n"
   ]
  },
  {
   "cell_type": "markdown",
   "id": "647cc267-8776-40ea-94ae-7d43cad400c3",
   "metadata": {},
   "source": [
    "###  Compare and contrast mutable and immutable objects in Python with examples"
   ]
  },
  {
   "cell_type": "markdown",
   "id": "70341df1-a971-4aed-b60d-3823c00c9cd7",
   "metadata": {},
   "source": [
    "Immutable Objects:\n",
    "Immutable objects cannot be changed after creation.\n",
    "Once instantiated, their value remains constant.\n",
    "Examples of immutable objects include:\n",
    "Integers: e.g., 42\n",
    "Floats: e.g., 3.14\n",
    "Booleans: e.g., True\n",
    "Strings: e.g., \"hello\"\n",
    "Tuples: e.g., (1, 2, 3).\n"
   ]
  },
  {
   "cell_type": "code",
   "execution_count": 1,
   "id": "fe4c07da-2685-4d05-bcee-cdffb5d0a5b4",
   "metadata": {},
   "outputs": [
    {
     "ename": "TypeError",
     "evalue": "'tuple' object does not support item assignment",
     "output_type": "error",
     "traceback": [
      "\u001b[0;31m---------------------------------------------------------------------------\u001b[0m",
      "\u001b[0;31mTypeError\u001b[0m                                 Traceback (most recent call last)",
      "Cell \u001b[0;32mIn[1], line 4\u001b[0m\n\u001b[1;32m      1\u001b[0m \u001b[38;5;66;03m#Examples\u001b[39;00m\n\u001b[1;32m      2\u001b[0m \u001b[38;5;66;03m# Tuples are immutable\u001b[39;00m\n\u001b[1;32m      3\u001b[0m tuple1 \u001b[38;5;241m=\u001b[39m (\u001b[38;5;241m0\u001b[39m, \u001b[38;5;241m1\u001b[39m, \u001b[38;5;241m2\u001b[39m, \u001b[38;5;241m3\u001b[39m)\n\u001b[0;32m----> 4\u001b[0m \u001b[43mtuple1\u001b[49m\u001b[43m[\u001b[49m\u001b[38;5;241;43m0\u001b[39;49m\u001b[43m]\u001b[49m \u001b[38;5;241m=\u001b[39m \u001b[38;5;241m4\u001b[39m  \u001b[38;5;66;03m# Throws a TypeError\u001b[39;00m\n",
      "\u001b[0;31mTypeError\u001b[0m: 'tuple' object does not support item assignment"
     ]
    }
   ],
   "source": [
    "#Examples\n",
    "# Tuples are immutable\n",
    "tuple1 = (0, 1, 2, 3)\n",
    "tuple1[0] = 4  # Throws a TypeError"
   ]
  },
  {
   "cell_type": "code",
   "execution_count": 2,
   "id": "f5609390-e758-4d5a-9dac-b154b7fd4ce3",
   "metadata": {},
   "outputs": [
    {
     "ename": "TypeError",
     "evalue": "'str' object does not support item assignment",
     "output_type": "error",
     "traceback": [
      "\u001b[0;31m---------------------------------------------------------------------------\u001b[0m",
      "\u001b[0;31mTypeError\u001b[0m                                 Traceback (most recent call last)",
      "Cell \u001b[0;32mIn[2], line 3\u001b[0m\n\u001b[1;32m      1\u001b[0m \u001b[38;5;66;03m# Strings are also immutable\u001b[39;00m\n\u001b[1;32m      2\u001b[0m message \u001b[38;5;241m=\u001b[39m \u001b[38;5;124m\"\u001b[39m\u001b[38;5;124mWelcome to GeeksforGeeks\u001b[39m\u001b[38;5;124m\"\u001b[39m\n\u001b[0;32m----> 3\u001b[0m \u001b[43mmessage\u001b[49m\u001b[43m[\u001b[49m\u001b[38;5;241;43m0\u001b[39;49m\u001b[43m]\u001b[49m \u001b[38;5;241m=\u001b[39m \u001b[38;5;124m'\u001b[39m\u001b[38;5;124mp\u001b[39m\u001b[38;5;124m'\u001b[39m  \u001b[38;5;66;03m# Throws a TypeError\u001b[39;00m\n",
      "\u001b[0;31mTypeError\u001b[0m: 'str' object does not support item assignment"
     ]
    }
   ],
   "source": [
    "# Strings are also immutable\n",
    "message = \"Welcome to GeeksforGeeks\"\n",
    "message[0] = 'p'  # Throws a TypeError"
   ]
  },
  {
   "cell_type": "code",
   "execution_count": null,
   "id": "cf12a383-6f4b-4861-aa67-1d91d1a40359",
   "metadata": {},
   "outputs": [],
   "source": [
    "\"\"\"\n",
    "Mutable Objects:\n",
    "Mutable objects can be modified after creation.\n",
    "Their state can change during the program’s execution.\n",
    "Examples of mutable objects include:\n",
    "Lists: e.g., [1, 2, 3]\n",
    "Dictionaries: e.g., {\"key\": \"value\"}\n",
    "Sets: e.g., {1, 2, 3}\n",
    "\n",
    "Examples\n",
    "\"\"\""
   ]
  },
  {
   "cell_type": "code",
   "execution_count": 6,
   "id": "734883c1-8675-4edf-8782-bd2471ef6ddf",
   "metadata": {},
   "outputs": [
    {
     "name": "stdout",
     "output_type": "stream",
     "text": [
      "None\n",
      "1\n"
     ]
    }
   ],
   "source": [
    "my_list = [1, 2, 3]\n",
    "my_list.append(4)\n",
    "print(my_list.insert(1, 5))\n",
    "my_list.remove(2)\n",
    "popped_element = my_list.pop(0)\n",
    "\n",
    "print(popped_element)\n"
   ]
  },
  {
   "cell_type": "code",
   "execution_count": 10,
   "id": "08c03d17-068f-43b6-985c-080adcf0e669",
   "metadata": {},
   "outputs": [
    {
     "name": "stdout",
     "output_type": "stream",
     "text": [
      "{'name': 'Alice', 'age': 31}\n"
     ]
    }
   ],
   "source": [
    "# Dictionaries are mutable\n",
    "my_dict = {\"name\": \"Alice\", \"age\": 30}\n",
    "my_dict[\"age\"] =31\n",
    "\n",
    "print(my_dict)"
   ]
  },
  {
   "cell_type": "markdown",
   "id": "bd062f87-0600-420d-b474-baf90c734301",
   "metadata": {},
   "source": [
    "### Discuss the different types of operators in Python and provide examples of how they are used"
   ]
  },
  {
   "cell_type": "raw",
   "id": "33d7f8ca-a37e-4cb1-a8f5-28fc609c5b34",
   "metadata": {},
   "source": [
    "Arithmetic Operators:\n",
    "These operators perform mathematical operations on values.\n",
    "Examples:"
   ]
  },
  {
   "cell_type": "code",
   "execution_count": 11,
   "id": "9ce6b465-cde4-4c8c-ac00-fb052a8b4e22",
   "metadata": {},
   "outputs": [
    {
     "name": "stdout",
     "output_type": "stream",
     "text": [
      "Sum: 9\n",
      "Subtraction: 5\n",
      "Multiplication: 14\n",
      "Division: 3.5\n",
      "Floor Division: 3\n",
      "Modulo: 1\n",
      "Power: 49\n"
     ]
    }
   ],
   "source": [
    "a = 7\n",
    "b = 2\n",
    "print('Sum:', a + b)\n",
    "print('Subtraction:', a - b)\n",
    "print('Multiplication:', a * b)\n",
    "print('Division:', a / b)\n",
    "print('Floor Division:', a // b)\n",
    "print('Modulo:', a % b)\n",
    "print('Power:', a ** b)\n"
   ]
  },
  {
   "cell_type": "code",
   "execution_count": 12,
   "id": "4542906f-8244-47f9-8141-be0fa942e124",
   "metadata": {},
   "outputs": [
    {
     "name": "stdout",
     "output_type": "stream",
     "text": [
      "15\n"
     ]
    }
   ],
   "source": [
    "\"\"\"\n",
    "Assignment Operators:\n",
    "These operators assign values to variables.\n",
    "Examples:\"\"\"\n",
    "a = 10\n",
    "b = 5\n",
    "a += b  # a = a + b\n",
    "print(a)  # Output: 15\n",
    "\n"
   ]
  },
  {
   "cell_type": "code",
   "execution_count": 13,
   "id": "1acc1d0b-1bb9-4ca9-8693-41548b8778be",
   "metadata": {},
   "outputs": [
    {
     "name": "stdout",
     "output_type": "stream",
     "text": [
      "a == b: False\n",
      "a != b: True\n"
     ]
    }
   ],
   "source": [
    "\"\"\"\n",
    "Comparison Operators:\n",
    "These operators compare two values and return a boolean result (True or False).\n",
    "Examples:\n",
    "\"\"\"\n",
    "a = 5\n",
    "b = 2\n",
    "print('a == b:', a == b)  # Equal to operator\n",
    "print('a != b:', a != b)  # Not equal to operator\n"
   ]
  },
  {
   "cell_type": "markdown",
   "id": "7a3ceb16-1ce2-49e1-aef0-104cc4fbf2ec",
   "metadata": {},
   "source": [
    "### Explain the concept of type casting in Python with examples"
   ]
  },
  {
   "cell_type": "code",
   "execution_count": null,
   "id": "5752f4f5-e8af-464a-9770-94cccc17fc6e",
   "metadata": {},
   "outputs": [],
   "source": [
    "\"\"\"\n",
    "Implicit Type Conversion:\n",
    "In implicit type conversion, Python automatically converts one data type to another without user intervention.\n",
    "For example, when you add an integer and a float, Python automatically converts the result to a float.\n",
    "Example:\n",
    "\n",
    "\"\"\""
   ]
  },
  {
   "cell_type": "code",
   "execution_count": 14,
   "id": "0cac0fe2-d8f1-47b9-acb1-f160864fe408",
   "metadata": {},
   "outputs": [
    {
     "name": "stdout",
     "output_type": "stream",
     "text": [
      "10.0\n"
     ]
    }
   ],
   "source": [
    "a = 7\n",
    "b = 3.0\n",
    "c = a + b  # Implicitly converts 'a' to float\n",
    "print(c)  # Output: 10.0\n"
   ]
  },
  {
   "cell_type": "code",
   "execution_count": 16,
   "id": "ebe9d313-b06f-4d85-b21e-6050fc7b22e2",
   "metadata": {},
   "outputs": [
    {
     "name": "stdout",
     "output_type": "stream",
     "text": [
      "5.0\n"
     ]
    }
   ],
   "source": [
    "\"\"\"Explicit Type Conversion:\n",
    "Explicit type conversion requires user involvement to convert a variable from one data type to another.\n",
    "Examples:\"\"\"\n",
    "a = 5\n",
    "n = float(a)\n",
    "print(n)  # Output: 5.0"
   ]
  },
  {
   "cell_type": "code",
   "execution_count": 17,
   "id": "9e0312b8-7239-40a3-8758-fe9c19d9ed8b",
   "metadata": {},
   "outputs": [
    {
     "name": "stdout",
     "output_type": "stream",
     "text": [
      "5\n"
     ]
    }
   ],
   "source": [
    "a = 5.9\n",
    "n = int(a)\n",
    "print(n)  # Output: 5"
   ]
  },
  {
   "cell_type": "code",
   "execution_count": 18,
   "id": "b7fce08e-1f74-4021-b522-7d84a3b8103c",
   "metadata": {},
   "outputs": [
    {
     "name": "stdout",
     "output_type": "stream",
     "text": [
      "5.9\n",
      "5\n"
     ]
    },
    {
     "ename": "ValueError",
     "evalue": "invalid literal for int() with base 10: 't'",
     "output_type": "error",
     "traceback": [
      "\u001b[0;31m---------------------------------------------------------------------------\u001b[0m",
      "\u001b[0;31mValueError\u001b[0m                                Traceback (most recent call last)",
      "Cell \u001b[0;32mIn[18], line 8\u001b[0m\n\u001b[1;32m      6\u001b[0m n \u001b[38;5;241m=\u001b[39m \u001b[38;5;28mint\u001b[39m(a)\n\u001b[1;32m      7\u001b[0m \u001b[38;5;28mprint\u001b[39m(n)  \u001b[38;5;66;03m# Output: 5\u001b[39;00m\n\u001b[0;32m----> 8\u001b[0m \u001b[38;5;28mprint\u001b[39m(\u001b[38;5;28;43mint\u001b[39;49m\u001b[43m(\u001b[49m\u001b[43mb\u001b[49m\u001b[43m)\u001b[49m)  \u001b[38;5;66;03m# Throws a ValueError\u001b[39;00m\n",
      "\u001b[0;31mValueError\u001b[0m: invalid literal for int() with base 10: 't'"
     ]
    }
   ],
   "source": [
    "a = \"5.9\"\n",
    "n = float(a)\n",
    "print(n)  # Output: 5.9\n",
    "a = \"5\"\n",
    "b = 't'\n",
    "n = int(a)\n",
    "print(n)  # Output: 5\n",
    "print(int(b))  # Throws a ValueError"
   ]
  },
  {
   "cell_type": "markdown",
   "id": "7762331a-1b6f-4fd6-89ff-fc5934e586e0",
   "metadata": {},
   "source": [
    "### How do conditional statements work in Python? Illustrate with examples"
   ]
  },
  {
   "cell_type": "code",
   "execution_count": 19,
   "id": "db2d12c5-b4f6-4313-9a4c-5df2a1a08cb1",
   "metadata": {},
   "outputs": [
    {
     "name": "stdout",
     "output_type": "stream",
     "text": [
      "You are an adult.\n",
      "No\n",
      "Letter is A\n"
     ]
    }
   ],
   "source": [
    "\"\"\"if Statement:\n",
    "The if statement executes a block of code only if a specified condition is true.\"\"\"\n",
    "\n",
    "age = 18\n",
    "if age >= 18:\n",
    "    print(\"You are an adult.\")\n",
    "\n",
    "\"\"\"if-else Statement:\n",
    "The if-else statement executes one block of code if the condition is true and another block if it’s false.\"\"\"\n",
    "\n",
    "x = 3\n",
    "if x == 4:\n",
    "    print(\"Yes\")\n",
    "else:\n",
    "    print(\"No\")\n",
    "\n",
    "\"\"\"Nested if-else Statement:\n",
    "A nested if-else statement contains an inner if-else statement within an outer one.\"\"\"\n",
    "\n",
    "letter = \"A\"\n",
    "if letter == \"B\":\n",
    "    print(\"Letter is B\")\n",
    "else:\n",
    "    if letter == \"C\":\n",
    "        print(\"Letter is C\")\n",
    "    else:\n",
    "        print(\"Letter is A\")\n"
   ]
  },
  {
   "cell_type": "markdown",
   "id": "9d6aaf8d-5c7e-4222-9e7c-7f3a0a0f06c3",
   "metadata": {},
   "source": [
    "### Describe the different types of loops in Python and their use cases with examples"
   ]
  },
  {
   "cell_type": "code",
   "execution_count": 20,
   "id": "37c6cfaa-3f7a-4583-9388-227bd6fa5230",
   "metadata": {},
   "outputs": [
    {
     "name": "stdout",
     "output_type": "stream",
     "text": [
      "1\n",
      "2\n",
      "3\n",
      "4\n",
      "5\n"
     ]
    }
   ],
   "source": [
    "\"\"\"while Loop:\n",
    "A while loop executes a set of code iteratively as long as a condition remains true.\"\"\"\n",
    "i = 1\n",
    "while i <= 5:\n",
    "    print(i)\n",
    "    i += 1\n"
   ]
  },
  {
   "cell_type": "code",
   "execution_count": 21,
   "id": "4c41cb2b-2564-40be-92b1-0b894f3a6367",
   "metadata": {},
   "outputs": [
    {
     "name": "stdout",
     "output_type": "stream",
     "text": [
      "apple\n",
      "banana\n",
      "cherry\n"
     ]
    }
   ],
   "source": [
    "\"\"\"for Loop:\n",
    "A for loop iterates over a sequence (such as a list, tuple, or string).\"\"\"\n",
    "\n",
    "fruits = [\"apple\", \"banana\", \"cherry\"]\n",
    "for fruit in fruits:\n",
    "    print(fruit)\n"
   ]
  },
  {
   "cell_type": "code",
   "execution_count": 22,
   "id": "c962cfd4-d609-4d83-91c3-caa2f6c2e87c",
   "metadata": {},
   "outputs": [
    {
     "name": "stdout",
     "output_type": "stream",
     "text": [
      "0 0\n",
      "0 1\n",
      "1 0\n",
      "1 1\n",
      "2 0\n",
      "2 1\n"
     ]
    }
   ],
   "source": [
    "\"\"\"Nested Loops:\n",
    "We can have loops within loops (nested loops).\n",
    "Useful for working with multi-dimensional data structures.\"\"\"\n",
    "for i in range(3):\n",
    "    for j in range(2):\n",
    "        print(i, j)\n"
   ]
  },
  {
   "cell_type": "code",
   "execution_count": 23,
   "id": "5d02c5ec-bc9d-43bf-aa0e-9ceca433e4fc",
   "metadata": {},
   "outputs": [
    {
     "name": "stdout",
     "output_type": "stream",
     "text": [
      "0\n",
      "1\n",
      "2\n"
     ]
    }
   ],
   "source": [
    "\"\"\"\n",
    "Loop Control Statements:\n",
    "Use break to exit a loop prematurely.\n",
    "Use continue to skip the current iteration and move to the next one.\n",
    "\"\"\"\n",
    "\n",
    "for i in range(5):\n",
    "    if i == 3:\n",
    "        break\n",
    "    print(i)"
   ]
  }
 ],
 "metadata": {
  "kernelspec": {
   "display_name": "Python 3 (ipykernel)",
   "language": "python",
   "name": "python3"
  },
  "language_info": {
   "codemirror_mode": {
    "name": "ipython",
    "version": 3
   },
   "file_extension": ".py",
   "mimetype": "text/x-python",
   "name": "python",
   "nbconvert_exporter": "python",
   "pygments_lexer": "ipython3",
   "version": "3.10.8"
  }
 },
 "nbformat": 4,
 "nbformat_minor": 5
}
